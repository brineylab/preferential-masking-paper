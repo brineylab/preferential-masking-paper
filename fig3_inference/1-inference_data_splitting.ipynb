{
 "cells": [
  {
   "cell_type": "markdown",
   "id": "378df23d-78ef-4ff8-8b5f-69213a11602d",
   "metadata": {},
   "source": [
    "# Inference Data Pre-processing\n",
    "\n",
    "separate dataset B into unmutated (germline) and mutated sequences\n",
    "\n",
    "note: this notebook requires test-set annotations (for mutation counts) and the paired test set with CDR masks (for subsequent grouping of predictions by antibody region in `2-per_position_inference`)"
   ]
  },
  {
   "cell_type": "code",
   "execution_count": 1,
   "id": "6c1223d4-51de-47d1-b05d-bf99af49666e",
   "metadata": {},
   "outputs": [],
   "source": [
    "import pandas as pd"
   ]
  },
  {
   "cell_type": "code",
   "execution_count": 2,
   "id": "7570f64e-db4a-447e-81ce-612bdf5149e2",
   "metadata": {},
   "outputs": [],
   "source": [
    "%%bash\n",
    "\n",
    "# download test set (CDR masks) if file doesn't already exist (downloads all pre-training data, since files are zipped together on Zenodo)\n",
    "if [ ! -e \"../data/B_test.csv\" ]; then\n",
    "    curl -o 'train-eval-test_cdr-mask.tar.gz' -L 'https://zenodo.org/records/14019655/files/train-eval-test_cdr-mask.tar.gz?download=1'\n",
    "    tar xzvf 'train-eval-test_cdr-mask.tar.gz' -C ../data\n",
    "    rm 'train-eval-test_cdr-mask.tar.gz'\n",
    "fi\n",
    "\n",
    "# download test set annotations if they don't already exist\n",
    "if [ ! -e \"../data/B_test-set_annotations.csv\" ]; then\n",
    "    curl -o 'test-set_annotations.tar.gz' -L 'https://zenodo.org/records/14019655/files/test-set_annotations.tar.gz?download=1'\n",
    "    tar xzvf 'test-set_annotations.tar.gz' -C ../data\n",
    "    rm 'test-set_annotations.tar.gz'\n",
    "fi"
   ]
  },
  {
   "cell_type": "code",
   "execution_count": 3,
   "id": "c3d9cdd3-5a63-4f00-9655-a57e6c6b32bf",
   "metadata": {},
   "outputs": [
    {
     "data": {
      "text/plain": [
       "(129814, 22)"
      ]
     },
     "execution_count": 3,
     "metadata": {},
     "output_type": "execute_result"
    }
   ],
   "source": [
    "# annotated test set\n",
    "df = pd.read_csv(\"../data/B_test-set_annotations.csv\")\n",
    "df.shape"
   ]
  },
  {
   "cell_type": "code",
   "execution_count": 4,
   "id": "9887cc68-2078-43af-a8e7-27c2ba2e811a",
   "metadata": {},
   "outputs": [
    {
     "data": {
      "text/plain": [
       "Index(['sequence_id', 'sequence_aa', 'v_gene', 'd_gene', 'j_gene',\n",
       "       'junction_aa', 'fwr1_aa', 'cdr1_aa', 'fwr2_aa', 'cdr2_aa', 'fwr3_aa',\n",
       "       'cdr3_aa', 'fwr4_aa', 'v_identity', 'v_identity_aa', 'v_mutations',\n",
       "       'v_mutations_aa', 'v_insertions', 'v_deletions', 'isotype', 'locus',\n",
       "       'sequence'],\n",
       "      dtype='object')"
      ]
     },
     "execution_count": 4,
     "metadata": {},
     "output_type": "execute_result"
    }
   ],
   "source": [
    "df.columns"
   ]
  },
  {
   "cell_type": "markdown",
   "id": "3dc6235c-1fa4-4b62-952d-22d9dabeb6e8",
   "metadata": {},
   "source": [
    "## re-pair the data and count mutations\n",
    "\n",
    "repair using `sequence_id`, count using `v_mutations_aa` (could also use `v_identity` for similar results)"
   ]
  },
  {
   "cell_type": "code",
   "execution_count": 5,
   "id": "018143b7-f4d6-4a32-9d1d-be3b73d19dd8",
   "metadata": {},
   "outputs": [],
   "source": [
    "# count mutations\n",
    "counts = []\n",
    "for row in df[\"v_mutations_aa\"]:\n",
    "    if isinstance(row, str):\n",
    "        counts.append(row.count(\":\"))\n",
    "    else:\n",
    "        counts.append(0)\n",
    "\n",
    "df[\"v_mutation_count_aa\"] = pd.Series(counts, name=\"v_mutation_count_aa\")"
   ]
  },
  {
   "cell_type": "code",
   "execution_count": 6,
   "id": "994f8c51-9125-4641-9c32-d323ed5ca108",
   "metadata": {},
   "outputs": [],
   "source": [
    "# columns of interest (id, sequence, mutation count)\n",
    "columns = [\"sequence_id\", \"sequence_aa\", \"v_mutation_count_aa\"]\n",
    "\n",
    "h = df[df[\"locus\"] == \"IGH\"].loc[:, columns]\n",
    "h.rename(columns={\"sequence_aa\": \"heavy_chain\", \n",
    "                  \"v_mutation_count_aa\": \"v_mutation_count_heavy\",}, inplace=True)\n",
    "\n",
    "l = df[df[\"locus\"] != \"IGH\"].loc[:, columns]\n",
    "l.rename(columns={\"sequence_aa\": \"light_chain\", \n",
    "                  \"v_mutation_count_aa\": \"v_mutation_count_light\",}, inplace=True)"
   ]
  },
  {
   "cell_type": "code",
   "execution_count": 7,
   "id": "fecdd6ee-f4dd-48da-8542-b77f3ebd57d1",
   "metadata": {},
   "outputs": [
    {
     "data": {
      "text/html": [
       "<div>\n",
       "<style scoped>\n",
       "    .dataframe tbody tr th:only-of-type {\n",
       "        vertical-align: middle;\n",
       "    }\n",
       "\n",
       "    .dataframe tbody tr th {\n",
       "        vertical-align: top;\n",
       "    }\n",
       "\n",
       "    .dataframe thead th {\n",
       "        text-align: right;\n",
       "    }\n",
       "</style>\n",
       "<table border=\"1\" class=\"dataframe\">\n",
       "  <thead>\n",
       "    <tr style=\"text-align: right;\">\n",
       "      <th></th>\n",
       "      <th>sequence_id</th>\n",
       "      <th>heavy_chain</th>\n",
       "      <th>v_mutation_count_heavy</th>\n",
       "      <th>light_chain</th>\n",
       "      <th>v_mutation_count_light</th>\n",
       "      <th>sequence_aa</th>\n",
       "      <th>v_all_mutation_count</th>\n",
       "    </tr>\n",
       "  </thead>\n",
       "  <tbody>\n",
       "    <tr>\n",
       "      <th>0</th>\n",
       "      <td>00042cf7-cc92-aa6f-ca45-fe5c83987ffb</td>\n",
       "      <td>QVQLQQWGAGLLKPSETLSLTCAVYGGSFSGYYWSWIRQPPGKGLE...</td>\n",
       "      <td>0</td>\n",
       "      <td>QSVLTQPPSASGTPGQRVTISCSGSSSNIGSNYVYWYQQLPGTAPK...</td>\n",
       "      <td>0</td>\n",
       "      <td>QVQLQQWGAGLLKPSETLSLTCAVYGGSFSGYYWSWIRQPPGKGLE...</td>\n",
       "      <td>0</td>\n",
       "    </tr>\n",
       "    <tr>\n",
       "      <th>1</th>\n",
       "      <td>00044d0a-d75a-3f0e-292c-00328712873e</td>\n",
       "      <td>QVQLVQSGAEVKKPGASVKVSCKASGYTFTGYYMHWVRQAPGQGLE...</td>\n",
       "      <td>0</td>\n",
       "      <td>DIQMTQSPSSLSASVGDRVTITCRASQGISNYLAWYQQKPGKVPKL...</td>\n",
       "      <td>0</td>\n",
       "      <td>QVQLVQSGAEVKKPGASVKVSCKASGYTFTGYYMHWVRQAPGQGLE...</td>\n",
       "      <td>0</td>\n",
       "    </tr>\n",
       "    <tr>\n",
       "      <th>2</th>\n",
       "      <td>000d3462-cfa3-b4bd-6ad1-25e25a5af361</td>\n",
       "      <td>QVQLVESGGGVVQPGGSLRLSCAASGFTFSSYGMHWVRQAPGKGLE...</td>\n",
       "      <td>0</td>\n",
       "      <td>SSELTQDPAVSVALGQTVRITCQGDSLRSYYASWYQQKPGQAPVLV...</td>\n",
       "      <td>0</td>\n",
       "      <td>QVQLVESGGGVVQPGGSLRLSCAASGFTFSSYGMHWVRQAPGKGLE...</td>\n",
       "      <td>0</td>\n",
       "    </tr>\n",
       "    <tr>\n",
       "      <th>3</th>\n",
       "      <td>000d5166-f467-05bb-ab9d-56d67a24a207</td>\n",
       "      <td>QVQLVQSGPEVKESGASVRVSCKASGLSFTSFGFSWVRQAPGQGLE...</td>\n",
       "      <td>17</td>\n",
       "      <td>QSALTQPASVSGSPGQSITISCTGTSSDVGGYKYVSWYQQNPGKAP...</td>\n",
       "      <td>5</td>\n",
       "      <td>QVQLVQSGPEVKESGASVRVSCKASGLSFTSFGFSWVRQAPGQGLE...</td>\n",
       "      <td>22</td>\n",
       "    </tr>\n",
       "    <tr>\n",
       "      <th>4</th>\n",
       "      <td>00105f68-19a9-e309-39fb-43bc468e72ab</td>\n",
       "      <td>QVQLVESGGGVVQPGRSLRLSCAASGFTFSSYAMHWVRQAPGKGLE...</td>\n",
       "      <td>0</td>\n",
       "      <td>DIQMTQSPSSVSASVGDRVTITCRASQGISSWLAWYQQKPGKAPKL...</td>\n",
       "      <td>0</td>\n",
       "      <td>QVQLVESGGGVVQPGRSLRLSCAASGFTFSSYAMHWVRQAPGKGLE...</td>\n",
       "      <td>0</td>\n",
       "    </tr>\n",
       "  </tbody>\n",
       "</table>\n",
       "</div>"
      ],
      "text/plain": [
       "                            sequence_id  \\\n",
       "0  00042cf7-cc92-aa6f-ca45-fe5c83987ffb   \n",
       "1  00044d0a-d75a-3f0e-292c-00328712873e   \n",
       "2  000d3462-cfa3-b4bd-6ad1-25e25a5af361   \n",
       "3  000d5166-f467-05bb-ab9d-56d67a24a207   \n",
       "4  00105f68-19a9-e309-39fb-43bc468e72ab   \n",
       "\n",
       "                                         heavy_chain  v_mutation_count_heavy  \\\n",
       "0  QVQLQQWGAGLLKPSETLSLTCAVYGGSFSGYYWSWIRQPPGKGLE...                       0   \n",
       "1  QVQLVQSGAEVKKPGASVKVSCKASGYTFTGYYMHWVRQAPGQGLE...                       0   \n",
       "2  QVQLVESGGGVVQPGGSLRLSCAASGFTFSSYGMHWVRQAPGKGLE...                       0   \n",
       "3  QVQLVQSGPEVKESGASVRVSCKASGLSFTSFGFSWVRQAPGQGLE...                      17   \n",
       "4  QVQLVESGGGVVQPGRSLRLSCAASGFTFSSYAMHWVRQAPGKGLE...                       0   \n",
       "\n",
       "                                         light_chain  v_mutation_count_light  \\\n",
       "0  QSVLTQPPSASGTPGQRVTISCSGSSSNIGSNYVYWYQQLPGTAPK...                       0   \n",
       "1  DIQMTQSPSSLSASVGDRVTITCRASQGISNYLAWYQQKPGKVPKL...                       0   \n",
       "2  SSELTQDPAVSVALGQTVRITCQGDSLRSYYASWYQQKPGQAPVLV...                       0   \n",
       "3  QSALTQPASVSGSPGQSITISCTGTSSDVGGYKYVSWYQQNPGKAP...                       5   \n",
       "4  DIQMTQSPSSVSASVGDRVTITCRASQGISSWLAWYQQKPGKAPKL...                       0   \n",
       "\n",
       "                                         sequence_aa  v_all_mutation_count  \n",
       "0  QVQLQQWGAGLLKPSETLSLTCAVYGGSFSGYYWSWIRQPPGKGLE...                     0  \n",
       "1  QVQLVQSGAEVKKPGASVKVSCKASGYTFTGYYMHWVRQAPGQGLE...                     0  \n",
       "2  QVQLVESGGGVVQPGGSLRLSCAASGFTFSSYGMHWVRQAPGKGLE...                     0  \n",
       "3  QVQLVQSGPEVKESGASVRVSCKASGLSFTSFGFSWVRQAPGQGLE...                    22  \n",
       "4  QVQLVESGGGVVQPGRSLRLSCAASGFTFSSYAMHWVRQAPGKGLE...                     0  "
      ]
     },
     "execution_count": 7,
     "metadata": {},
     "output_type": "execute_result"
    }
   ],
   "source": [
    "# pair the sequences\n",
    "paired = pd.merge(h, l, on=\"sequence_id\")\n",
    "paired[\"sequence_aa\"] = paired[\"heavy_chain\"] + \"<cls><cls>\" + paired[\"light_chain\"]\n",
    "\n",
    "# total v-gene mutation count\n",
    "paired[\"v_all_mutation_count\"] = paired[\"v_mutation_count_heavy\"] + paired[\"v_mutation_count_light\"]\n",
    "\n",
    "paired.head(5)"
   ]
  },
  {
   "cell_type": "markdown",
   "id": "d8251ae8-6613-4a6a-8b8c-45010ff4a02e",
   "metadata": {},
   "source": [
    "## select germline and mutated sequences, join to df with cdr masks"
   ]
  },
  {
   "cell_type": "code",
   "execution_count": 8,
   "id": "709b074e-4730-44ce-8fc0-b6c150dd2562",
   "metadata": {},
   "outputs": [
    {
     "data": {
      "text/plain": [
       "(64907, 2)"
      ]
     },
     "execution_count": 8,
     "metadata": {},
     "output_type": "execute_result"
    }
   ],
   "source": [
    "test_df = pd.read_csv(\"../data/B_test.csv\")\n",
    "test_df.shape"
   ]
  },
  {
   "cell_type": "code",
   "execution_count": 9,
   "id": "ce3a2de5-2b7e-450a-8b9a-a3bfc6bf2da3",
   "metadata": {},
   "outputs": [
    {
     "data": {
      "text/plain": [
       "(38670, 2)"
      ]
     },
     "execution_count": 9,
     "metadata": {},
     "output_type": "execute_result"
    }
   ],
   "source": [
    "# germline sequences (no v-gene mutations)\n",
    "germline = paired[paired[\"v_all_mutation_count\"] == 0].copy()\n",
    "germline[\"text\"] = germline[\"heavy_chain\"] + \"<cls><cls>\" + germline[\"light_chain\"]\n",
    "\n",
    "# add cdr masks\n",
    "germline = germline[\"text\"].to_frame().merge(test_df, on=\"text\")\n",
    "germline.shape"
   ]
  },
  {
   "cell_type": "code",
   "execution_count": 10,
   "id": "15059bc8-efeb-4035-9110-96c4f1e2e9b9",
   "metadata": {},
   "outputs": [
    {
     "data": {
      "text/plain": [
       "(26237, 2)"
      ]
     },
     "execution_count": 10,
     "metadata": {},
     "output_type": "execute_result"
    }
   ],
   "source": [
    "# mutated sequences (gonna take ones where both chains have mutations ,, just so that they are more mutated? idk)\n",
    "mutated = paired[paired[\"v_all_mutation_count\"] != 0].copy()\n",
    "mutated[\"text\"] = mutated[\"heavy_chain\"] + \"<cls><cls>\" + mutated[\"light_chain\"]\n",
    "\n",
    "# add cdr masks\n",
    "mutated = mutated[\"text\"].to_frame().merge(test_df, on=\"text\")\n",
    "mutated.shape"
   ]
  },
  {
   "cell_type": "markdown",
   "id": "203d1404-ec4e-40e0-abda-a4a386cb65fc",
   "metadata": {},
   "source": [
    "## save dfs\n",
    "\n",
    "for inference separated by germline and mutated sequences"
   ]
  },
  {
   "cell_type": "code",
   "execution_count": 11,
   "id": "16dec3c2-5b9e-47e4-b928-4a0c188dcd10",
   "metadata": {},
   "outputs": [],
   "source": [
    "germline.to_csv(\"./B_germline_annotated_test.csv\", index=False)\n",
    "mutated.to_csv(\"./B_mutated_annotated_test.csv\", index=False)"
   ]
  },
  {
   "cell_type": "code",
   "execution_count": null,
   "id": "9fe8b7e1-9dbf-4181-b996-f3822a8021b5",
   "metadata": {},
   "outputs": [],
   "source": []
  }
 ],
 "metadata": {
  "kernelspec": {
   "display_name": "Python 3 (ipykernel)",
   "language": "python",
   "name": "python3"
  },
  "language_info": {
   "codemirror_mode": {
    "name": "ipython",
    "version": 3
   },
   "file_extension": ".py",
   "mimetype": "text/x-python",
   "name": "python",
   "nbconvert_exporter": "python",
   "pygments_lexer": "ipython3",
   "version": "3.11.3"
  }
 },
 "nbformat": 4,
 "nbformat_minor": 5
}
