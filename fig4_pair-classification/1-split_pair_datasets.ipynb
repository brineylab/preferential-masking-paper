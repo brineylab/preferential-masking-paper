{
 "cells": [
  {
   "cell_type": "markdown",
   "id": "f507b028-b441-4f31-81a0-88ce1e376904",
   "metadata": {},
   "source": [
    "# Data Pre-processing for Native vs Shuffled Pair Classification\n",
    "\n",
    "shuffle pairs for half of the given dataset of paired Ab sequences; return a class-balanced dataset (class-balancing takes place within each donor to allow for train/test splitting by donor)\n",
    "\n",
    "split for classifier head training using 5-fold CV"
   ]
  },
  {
   "cell_type": "code",
   "execution_count": 1,
   "id": "b5974eaf-b3bf-4cd5-965f-46f67d4df12c",
   "metadata": {},
   "outputs": [],
   "source": [
    "import pandas as pd\n",
    "from sklearn.model_selection import StratifiedKFold\n",
    "\n",
    "# for random selection of sequences to shuffle\n",
    "seed = 42\n",
    "\n",
    "# for k-fold cv\n",
    "k = 5"
   ]
  },
  {
   "cell_type": "markdown",
   "id": "16857b3b-2a6f-4ce9-a460-f25f7ca2972a",
   "metadata": {},
   "source": [
    "## dataset download"
   ]
  },
  {
   "cell_type": "code",
   "execution_count": 2,
   "id": "50499a23-19bf-4fb6-9f20-7963e53b06dd",
   "metadata": {},
   "outputs": [],
   "source": [
    "%%bash\n",
    "\n",
    "# download the native vs shuffled pair datasets if they don't already exist\n",
    "if [ ! -e \"../data/C_native-0_shuffled-1.csv\" ] && [ ! -e \"../data/D_native-0_shuffled-1.csv\" ]; then\n",
    "    curl -o 'pair_classification.tar.gz' -L 'https://zenodo.org/records/13973760/files/pair_classification.tar.gz?download=1'\n",
    "    tar xzvf 'pair_classification.tar.gz' -C ../data\n",
    "    rm 'pair_classification.tar.gz'\n",
    "fi"
   ]
  },
  {
   "cell_type": "code",
   "execution_count": 3,
   "id": "797428f3-09eb-4870-afce-acbf23970701",
   "metadata": {},
   "outputs": [],
   "source": [
    "# for reference: function used to shuffle pairs (Zenodo dataset downloads are already shuffled)\n",
    "def pair_class_dataset(hd_data, seed=42):\n",
    "    \"\"\"\n",
    "    shuffle pairs for half of the given dataset of paired Ab sequences\n",
    "    return a class-balanced dataset (class-balancing takes place within each donor to allow for train/test splitting by donor\n",
    "    \"\"\"\n",
    "\n",
    "    def sep_chains(row):\n",
    "        h, l = row[\"text\"].split(\"<cls><cls>\")\n",
    "        return {\n",
    "            \"name\": row[\"sequence_id\"],\n",
    "            \"h_sequence\": h, \n",
    "            \"l_sequence\": l,\n",
    "            \"donor\": row[\"donor\"],\n",
    "        }\n",
    "    hd_data.reset_index(drop=True, inplace=True)\n",
    "    hd_data = pd.DataFrame(list(hd_data.apply(sep_chains, axis=1)))\n",
    "\n",
    "    # 50-50 split of native and shuffled pairs\n",
    "    def shuffle_lc(df, seed=seed):\n",
    "        df.reset_index(drop=True, inplace=True)\n",
    "        \n",
    "        # native pairs\n",
    "        native_pairs = df.sample(frac = 0.5, random_state = seed)\n",
    "        native_pairs[\"h_sequence_id\"] = native_pairs[\"name\"]\n",
    "        native_pairs[\"l_sequence_id\"] = native_pairs[\"name\"]\n",
    "        native_pairs[\"label\"] = 0\n",
    "        native_pairs.reset_index(inplace=True, drop=True)\n",
    "    \n",
    "        # remaining data for making shuffled pairs\n",
    "        shuffled = df.drop(native_pairs.index)\n",
    "        shuffled[\"h_sequence_id\"] = shuffled[\"name\"]\n",
    "        shuffled[\"l_sequence_id\"] = shuffled[\"name\"]\n",
    "        shuffled[\"label\"] = 1\n",
    "        shuffled.reset_index(inplace=True, drop=True)\n",
    "        print(len(shuffled))\n",
    "    \n",
    "        # shuffle light chains\n",
    "        shuffled_lc = shuffled[[\"l_sequence_id\", \"l_sequence\"]].sample(frac=1.0, random_state=seed)\n",
    "        shuffled_lc.reset_index(inplace=True, drop=True)\n",
    "        \n",
    "        # append to shuffled df\n",
    "        shuffled.rename(columns={\"l_sequence\": \"old_lc\", \n",
    "                                 \"l_sequence_id\": \"old_l_sequence_id\"}, inplace=True)\n",
    "        shuffled = pd.concat([shuffled, shuffled_lc], axis=1)\n",
    "        \n",
    "        # only take ones where the light chain pairing got changed\n",
    "        shuffled = shuffled[shuffled[\"l_sequence\"] != shuffled[\"old_lc\"]].reset_index(drop=True)\n",
    "        print(len(shuffled))\n",
    "    \n",
    "        # no native pairs appear in the shuffled dataset (e.g. a heavy chain has multiple productive light chain pairings and one of those is in the shuffled dataset)\n",
    "        if len(pd.merge(hd_data[[\"h_sequence\", \"l_sequence\"]], shuffled[[\"h_sequence\", \"l_sequence\"]], how=\"inner\")) == 0:\n",
    "            print(\"no native pairs in shuffled dataset.\")\n",
    "    \n",
    "        # note: to match class sizes\n",
    "        pair_data = pd.concat([native_pairs.sample(n = len(shuffled), random_state = seed)[[\"name\", \"h_sequence_id\", \"l_sequence_id\", \"h_sequence\", \"l_sequence\", \"donor\", \"label\"]], \n",
    "                               shuffled[[\"name\", \"h_sequence_id\", \"l_sequence_id\", \"h_sequence\", \"l_sequence\", \"donor\", \"label\"]]]).reset_index(drop=True)\n",
    "        \n",
    "        # concat names for easier parsing later on\n",
    "        pair_data[\"name\"] = pair_data[\"h_sequence_id\"] + \"|\" + pair_data[\"l_sequence_id\"]\n",
    "        pair_data.drop(columns=[\"h_sequence_id\", \"l_sequence_id\"], inplace=True)\n",
    "        \n",
    "        return pair_data\n",
    "\n",
    "    # apply chain splitting to each donor separately (to allow for class-balanced training/test sets each with independent donors)\n",
    "    classifier_df = pd.DataFrame(columns=[\"name\", \"h_sequence\", \"l_sequence\", \"donor\", \"label\"])\n",
    "    for donor in hd_data[\"donor\"].unique():\n",
    "        print(donor)\n",
    "        shuffled_df = shuffle_lc(hd_data[hd_data[\"donor\"] == donor])\n",
    "        print(shuffled_df[\"label\"].value_counts(), \"\\n\")\n",
    "        classifier_df = pd.concat([classifier_df, shuffled_df]).reset_index(drop=True)\n",
    "    \n",
    "    print(\"--- \\noverall class sizes:\")\n",
    "    print(classifier_df[\"label\"].value_counts())\n",
    "\n",
    "    return classifier_df"
   ]
  },
  {
   "cell_type": "markdown",
   "id": "5ca11821-61fc-455e-80cf-c980c8cce2fd",
   "metadata": {},
   "source": [
    "## 5-fold CV splits for classifier training"
   ]
  },
  {
   "cell_type": "markdown",
   "id": "4b708944-4d5f-4ebd-a1b4-b4336d5d4149",
   "metadata": {},
   "source": [
    "### Dataset C"
   ]
  },
  {
   "cell_type": "code",
   "execution_count": 4,
   "id": "b7fe4d7e-d5ad-4a74-a02d-c13c961a0075",
   "metadata": {},
   "outputs": [
    {
     "name": "stdout",
     "output_type": "stream",
     "text": [
      "64874\n"
     ]
    }
   ],
   "source": [
    "# filter out long sequences\n",
    "df_C = pd.read_csv(\"../data/C_native-0_shuffled-1.csv\")\n",
    "correct_length = df_C.apply(lambda x: len(x[\"h_sequence\"]) + len(x[\"l_sequence\"]) <= 315, axis=1)\n",
    "df_C.drop(index=correct_length[correct_length == False].index, inplace=True)\n",
    "print(len(df_C))"
   ]
  },
  {
   "cell_type": "code",
   "execution_count": 5,
   "id": "c8aac0b4-bd68-40e5-982e-4facc18cfbf8",
   "metadata": {},
   "outputs": [
    {
     "name": "stdout",
     "output_type": "stream",
     "text": [
      "Fold 0:\n",
      "1    25950\n",
      "0    25949\n",
      "Name: label, dtype: int64\n",
      "0    6488\n",
      "1    6487\n",
      "Name: label, dtype: int64 \n",
      "\n",
      "Fold 1:\n",
      "1    25950\n",
      "0    25949\n",
      "Name: label, dtype: int64\n",
      "0    6488\n",
      "1    6487\n",
      "Name: label, dtype: int64 \n",
      "\n",
      "Fold 2:\n",
      "0    25950\n",
      "1    25949\n",
      "Name: label, dtype: int64\n",
      "1    6488\n",
      "0    6487\n",
      "Name: label, dtype: int64 \n",
      "\n",
      "Fold 3:\n",
      "0    25950\n",
      "1    25949\n",
      "Name: label, dtype: int64\n",
      "1    6488\n",
      "0    6487\n",
      "Name: label, dtype: int64 \n",
      "\n",
      "Fold 4:\n",
      "1    25950\n",
      "0    25950\n",
      "Name: label, dtype: int64\n",
      "0    6487\n",
      "1    6487\n",
      "Name: label, dtype: int64 \n",
      "\n"
     ]
    }
   ],
   "source": [
    "# returns lists of indices that are shuffled, stratified k-fold cv\n",
    "skf = StratifiedKFold(n_splits=k, shuffle=True, random_state=seed)\n",
    "X = df_C.drop(\"label\", axis=1)\n",
    "y = df_C.loc[:, \"label\"].astype(\"int64\")\n",
    "\n",
    "for i, (train_index, test_index) in enumerate(skf.split(X, y)):\n",
    "    print(f\"Fold {i}:\")\n",
    "\n",
    "    # select data by each CV fold\n",
    "    train = df_C.loc[train_index].sample(frac=1, random_state=seed)\n",
    "    test = df_C.loc[test_index].sample(frac=1, random_state=seed)\n",
    "\n",
    "    print(train[\"label\"].value_counts())\n",
    "    print(test[\"label\"].value_counts(), \"\\n\")\n",
    "\n",
    "    # reset index\n",
    "    train = train.reset_index(drop=True)\n",
    "    test = test.reset_index(drop=True)\n",
    "    \n",
    "    # save as csvs\n",
    "    train.to_csv(f'./train-test_splits/C_native-0_shuffled-1_train{i}.csv', index=False)\n",
    "    test.to_csv(f'./train-test_splits/C_native-0_shuffled-1_test{i}.csv', index=False)"
   ]
  },
  {
   "cell_type": "markdown",
   "id": "87576cf8-0e16-477d-9e98-ef4170e1b2db",
   "metadata": {},
   "source": [
    "### Dataset D"
   ]
  },
  {
   "cell_type": "code",
   "execution_count": 6,
   "id": "fb61b177-79d4-41ee-98ea-0c6d6692ab5f",
   "metadata": {},
   "outputs": [
    {
     "name": "stdout",
     "output_type": "stream",
     "text": [
      "146668\n"
     ]
    }
   ],
   "source": [
    "# filter out long sequences\n",
    "df_D = pd.read_csv(\"../data/D_native-0_shuffled-1.csv\")\n",
    "correct_length = df_D.apply(lambda x: len(x[\"h_sequence\"]) + len(x[\"l_sequence\"]) <= 315, axis=1)\n",
    "df_D.drop(index=correct_length[correct_length == False].index, inplace=True)\n",
    "print(len(df_D))"
   ]
  },
  {
   "cell_type": "code",
   "execution_count": 7,
   "id": "113b0fa7-2374-4f13-9969-cbb55754a9db",
   "metadata": {},
   "outputs": [
    {
     "name": "stdout",
     "output_type": "stream",
     "text": [
      "Fold 0:\n",
      "0    58667\n",
      "1    58667\n",
      "Name: label, dtype: int64\n",
      "1    14667\n",
      "0    14667\n",
      "Name: label, dtype: int64 \n",
      "\n",
      "Fold 1:\n",
      "0    58667\n",
      "1    58667\n",
      "Name: label, dtype: int64\n",
      "1    14667\n",
      "0    14667\n",
      "Name: label, dtype: int64 \n",
      "\n",
      "Fold 2:\n",
      "0    58667\n",
      "1    58667\n",
      "Name: label, dtype: int64\n",
      "1    14667\n",
      "0    14667\n",
      "Name: label, dtype: int64 \n",
      "\n",
      "Fold 3:\n",
      "1    58668\n",
      "0    58667\n",
      "Name: label, dtype: int64\n",
      "0    14667\n",
      "1    14666\n",
      "Name: label, dtype: int64 \n",
      "\n",
      "Fold 4:\n",
      "0    58668\n",
      "1    58667\n",
      "Name: label, dtype: int64\n",
      "1    14667\n",
      "0    14666\n",
      "Name: label, dtype: int64 \n",
      "\n"
     ]
    }
   ],
   "source": [
    "# returns lists of indices that are shuffled, stratified k-fold cv\n",
    "skf = StratifiedKFold(n_splits=k, shuffle=True, random_state=seed)\n",
    "X = df_D.drop(\"label\", axis=1)\n",
    "y = df_D.loc[:, \"label\"].astype(\"int64\")\n",
    "\n",
    "for i, (train_index, test_index) in enumerate(skf.split(X, y)):\n",
    "    print(f\"Fold {i}:\")\n",
    "\n",
    "    # select data by each CV fold\n",
    "    train = df_D.loc[train_index].sample(frac=1, random_state=seed)\n",
    "    test = df_D.loc[test_index].sample(frac=1, random_state=seed)\n",
    "\n",
    "    print(train[\"label\"].value_counts())\n",
    "    print(test[\"label\"].value_counts(), \"\\n\")\n",
    "\n",
    "    # reset index\n",
    "    train = train.reset_index(drop=True)\n",
    "    test = test.reset_index(drop=True)\n",
    "    \n",
    "    # save as csvs\n",
    "    train.to_csv(f'./train-test_splits/D_native-0_shuffled-1_train{i}.csv', index=False)\n",
    "    test.to_csv(f'./train-test_splits/D_native-0_shuffled-1_test{i}.csv', index=False)"
   ]
  },
  {
   "cell_type": "code",
   "execution_count": null,
   "id": "1a8ebda3-7d10-419a-b672-c5f418ba2db1",
   "metadata": {},
   "outputs": [],
   "source": []
  }
 ],
 "metadata": {
  "kernelspec": {
   "display_name": "Python 3 (ipykernel)",
   "language": "python",
   "name": "python3"
  },
  "language_info": {
   "codemirror_mode": {
    "name": "ipython",
    "version": 3
   },
   "file_extension": ".py",
   "mimetype": "text/x-python",
   "name": "python",
   "nbconvert_exporter": "python",
   "pygments_lexer": "ipython3",
   "version": "3.11.3"
  }
 },
 "nbformat": 4,
 "nbformat_minor": 5
}
