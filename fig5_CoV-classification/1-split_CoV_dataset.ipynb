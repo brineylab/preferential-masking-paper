{
 "cells": [
  {
   "cell_type": "markdown",
   "id": "f507b028-b441-4f31-81a0-88ce1e376904",
   "metadata": {},
   "source": [
    "# Data Pre-processing for CoV Classification\n",
    "\n",
    "split for classifier head training using 5-fold CV"
   ]
  },
  {
   "cell_type": "code",
   "execution_count": 1,
   "id": "b5974eaf-b3bf-4cd5-965f-46f67d4df12c",
   "metadata": {},
   "outputs": [],
   "source": [
    "import pandas as pd\n",
    "from sklearn.model_selection import StratifiedKFold\n",
    "\n",
    "# for random selection of sequences to shuffle\n",
    "seed = 42\n",
    "\n",
    "# for k-fold cv\n",
    "k = 5"
   ]
  },
  {
   "cell_type": "markdown",
   "id": "16857b3b-2a6f-4ce9-a460-f25f7ca2972a",
   "metadata": {},
   "source": [
    "## dataset download"
   ]
  },
  {
   "cell_type": "code",
   "execution_count": 2,
   "id": "50499a23-19bf-4fb6-9f20-7963e53b06dd",
   "metadata": {},
   "outputs": [],
   "source": [
    "%%bash\n",
    "\n",
    "# download the CoV classification dataset if it doesn't already exist\n",
    "if [ ! -e \"../data/E_hd-0_cov-1.csv\" ]; then\n",
    "    curl -o 'CoV_classification.tar.gz' -L 'https://zenodo.org/records/14019655/files/CoV_classification.tar.gz?download=1'\n",
    "    tar xzvf 'CoV_classification.tar.gz' -C ../data\n",
    "    rm 'CoV_classification.tar.gz'\n",
    "fi"
   ]
  },
  {
   "cell_type": "markdown",
   "id": "5ca11821-61fc-455e-80cf-c980c8cce2fd",
   "metadata": {},
   "source": [
    "## 5-fold CV splits for classifier training"
   ]
  },
  {
   "cell_type": "code",
   "execution_count": 3,
   "id": "b7fe4d7e-d5ad-4a74-a02d-c13c961a0075",
   "metadata": {},
   "outputs": [
    {
     "name": "stdout",
     "output_type": "stream",
     "text": [
      "24969\n"
     ]
    }
   ],
   "source": [
    "# filter out long sequences\n",
    "df_E = pd.read_csv(\"../data/E_hd-0_cov-1.csv\")\n",
    "correct_length = df_E.apply(lambda x: len(x[\"h_sequence\"]) + len(x[\"l_sequence\"]) <= 315, axis=1)\n",
    "df_E.drop(index=correct_length[correct_length == False].index, inplace=True)\n",
    "print(len(df_E))"
   ]
  },
  {
   "cell_type": "code",
   "execution_count": 4,
   "id": "c8aac0b4-bd68-40e5-982e-4facc18cfbf8",
   "metadata": {},
   "outputs": [
    {
     "name": "stdout",
     "output_type": "stream",
     "text": [
      "Fold 0:\n",
      "0    9988\n",
      "1    9987\n",
      "Name: label, dtype: int64\n",
      "1    2497\n",
      "0    2497\n",
      "Name: label, dtype: int64 \n",
      "\n",
      "Fold 1:\n",
      "0    9988\n",
      "1    9987\n",
      "Name: label, dtype: int64\n",
      "1    2497\n",
      "0    2497\n",
      "Name: label, dtype: int64 \n",
      "\n",
      "Fold 2:\n",
      "0    9988\n",
      "1    9987\n",
      "Name: label, dtype: int64\n",
      "1    2497\n",
      "0    2497\n",
      "Name: label, dtype: int64 \n",
      "\n",
      "Fold 3:\n",
      "0    9988\n",
      "1    9987\n",
      "Name: label, dtype: int64\n",
      "1    2497\n",
      "0    2497\n",
      "Name: label, dtype: int64 \n",
      "\n",
      "Fold 4:\n",
      "1    9988\n",
      "0    9988\n",
      "Name: label, dtype: int64\n",
      "0    2497\n",
      "1    2496\n",
      "Name: label, dtype: int64 \n",
      "\n"
     ]
    }
   ],
   "source": [
    "# returns lists of indices that are shuffled, stratified k-fold cv\n",
    "skf = StratifiedKFold(n_splits=k, shuffle=True, random_state=seed)\n",
    "X = df_E.drop(\"label\", axis=1)\n",
    "y = df_E.loc[:, \"label\"].astype(\"int64\")\n",
    "\n",
    "for i, (train_index, test_index) in enumerate(skf.split(X, y)):\n",
    "    print(f\"Fold {i}:\")\n",
    "\n",
    "    # select data by each CV fold\n",
    "    train = df_E.loc[train_index].sample(frac=1, random_state=seed)\n",
    "    test = df_E.loc[test_index].sample(frac=1, random_state=seed)\n",
    "\n",
    "    print(train[\"label\"].value_counts())\n",
    "    print(test[\"label\"].value_counts(), \"\\n\")\n",
    "\n",
    "    # reset index\n",
    "    train = train.reset_index(drop=True)\n",
    "    test = test.reset_index(drop=True)\n",
    "    \n",
    "    # save as csvs\n",
    "    train.to_csv(f'./train-test_splits/E_hd-0_cov-1_train{i}.csv', index=False)\n",
    "    test.to_csv(f'./train-test_splits/E_hd-0_cov-1_test{i}.csv', index=False)"
   ]
  },
  {
   "cell_type": "code",
   "execution_count": null,
   "id": "1a8ebda3-7d10-419a-b672-c5f418ba2db1",
   "metadata": {},
   "outputs": [],
   "source": []
  }
 ],
 "metadata": {
  "kernelspec": {
   "display_name": "Python 3 (ipykernel)",
   "language": "python",
   "name": "python3"
  },
  "language_info": {
   "codemirror_mode": {
    "name": "ipython",
    "version": 3
   },
   "file_extension": ".py",
   "mimetype": "text/x-python",
   "name": "python",
   "nbconvert_exporter": "python",
   "pygments_lexer": "ipython3",
   "version": "3.11.10"
  }
 },
 "nbformat": 4,
 "nbformat_minor": 5
}
